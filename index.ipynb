{
 "cells": [
  {
   "cell_type": "markdown",
   "metadata": {},
   "source": [
    "# Network Dynamics: Node Centrality - Lab\n",
    "\n",
    "## Introduction\n",
    "\n",
    "In this lab, you'll get a chance to practice implementing and interpreting the centrality metrics from the previous section. You'll do this be investigating the social network from Game of Thrones!\n",
    "\n",
    "## Objectives\n",
    "You will be able to:\n",
    "- Understand and explain network centrality and its importance in graph analysis\n",
    "- Understand and calculate Degree, Closeness, Betweenness and Eigenvector centrality measures\n",
    "- Describe the use case for several centrality measures"
   ]
  },
  {
   "cell_type": "markdown",
   "metadata": {
    "collapsed": true
   },
   "source": [
    "## Character Interaction Graph Data\n",
    "\n",
    "A. J. Beveridge, and J. Shan  created a network from George R. Martin's \"A song of ice and fire\" by extracting relationships between characters of the story. [The dataset is available at Github](https://github.com/mathbeveridge/asoiaf). Relationships between characters were formed every time a character's name appears within 15 words of another character. This was designed as an approximate metric for character's interactions with each other. The results of this simple analysis are quite profound and produce interesting visuals such as this graph:\n",
    "\n",
    "<img src=\"images/got.png\" width=800>\n",
    "\n",
    "With that, it's your turn to start investigating the most central characters!"
   ]
  },
  {
   "cell_type": "code",
   "execution_count": 1,
   "metadata": {},
   "outputs": [],
   "source": [
    "import pandas as pd\n",
    "import networkx as nx\n",
    "import matplotlib.pyplot as plt\n",
    "import seaborn as sns\n",
    "sns.set_style('darkgrid')\n",
    "import warnings\n",
    "warnings.filterwarnings('ignore')\n",
    "\n",
    "%matplotlib inline"
   ]
  },
  {
   "cell_type": "markdown",
   "metadata": {},
   "source": [
    "##  Load the dataset \n",
    "\n",
    "Start by loading the dataset as a pandas DataFrame. From this, you'll then create a network representation of the dataset using NetworkX. \n",
    "\n",
    "The dataset is stored in the file `asoiaf-all-edges.csv`."
   ]
  },
  {
   "cell_type": "code",
   "execution_count": 2,
   "metadata": {},
   "outputs": [
    {
     "data": {
      "text/html": [
       "<div>\n",
       "<style scoped>\n",
       "    .dataframe tbody tr th:only-of-type {\n",
       "        vertical-align: middle;\n",
       "    }\n",
       "\n",
       "    .dataframe tbody tr th {\n",
       "        vertical-align: top;\n",
       "    }\n",
       "\n",
       "    .dataframe thead th {\n",
       "        text-align: right;\n",
       "    }\n",
       "</style>\n",
       "<table border=\"1\" class=\"dataframe\">\n",
       "  <thead>\n",
       "    <tr style=\"text-align: right;\">\n",
       "      <th></th>\n",
       "      <th>Source</th>\n",
       "      <th>Target</th>\n",
       "      <th>Type</th>\n",
       "      <th>id</th>\n",
       "      <th>weight</th>\n",
       "    </tr>\n",
       "  </thead>\n",
       "  <tbody>\n",
       "    <tr>\n",
       "      <th>0</th>\n",
       "      <td>Addam-Marbrand</td>\n",
       "      <td>Brynden-Tully</td>\n",
       "      <td>Undirected</td>\n",
       "      <td>0</td>\n",
       "      <td>3</td>\n",
       "    </tr>\n",
       "    <tr>\n",
       "      <th>1</th>\n",
       "      <td>Addam-Marbrand</td>\n",
       "      <td>Cersei-Lannister</td>\n",
       "      <td>Undirected</td>\n",
       "      <td>1</td>\n",
       "      <td>3</td>\n",
       "    </tr>\n",
       "    <tr>\n",
       "      <th>2</th>\n",
       "      <td>Addam-Marbrand</td>\n",
       "      <td>Gyles-Rosby</td>\n",
       "      <td>Undirected</td>\n",
       "      <td>2</td>\n",
       "      <td>3</td>\n",
       "    </tr>\n",
       "    <tr>\n",
       "      <th>3</th>\n",
       "      <td>Addam-Marbrand</td>\n",
       "      <td>Jaime-Lannister</td>\n",
       "      <td>Undirected</td>\n",
       "      <td>3</td>\n",
       "      <td>14</td>\n",
       "    </tr>\n",
       "    <tr>\n",
       "      <th>4</th>\n",
       "      <td>Addam-Marbrand</td>\n",
       "      <td>Jalabhar-Xho</td>\n",
       "      <td>Undirected</td>\n",
       "      <td>4</td>\n",
       "      <td>3</td>\n",
       "    </tr>\n",
       "  </tbody>\n",
       "</table>\n",
       "</div>"
      ],
      "text/plain": [
       "           Source            Target        Type  id  weight\n",
       "0  Addam-Marbrand     Brynden-Tully  Undirected   0       3\n",
       "1  Addam-Marbrand  Cersei-Lannister  Undirected   1       3\n",
       "2  Addam-Marbrand       Gyles-Rosby  Undirected   2       3\n",
       "3  Addam-Marbrand   Jaime-Lannister  Undirected   3      14\n",
       "4  Addam-Marbrand      Jalabhar-Xho  Undirected   4       3"
      ]
     },
     "execution_count": 2,
     "metadata": {},
     "output_type": "execute_result"
    }
   ],
   "source": [
    "# Load edges into dataframes\n",
    "edges = pd.read_csv('asoiaf-all-edges.csv')\n",
    "edges.head()"
   ]
  },
  {
   "cell_type": "markdown",
   "metadata": {},
   "source": [
    "## Create Empty graph instances for each book"
   ]
  },
  {
   "cell_type": "code",
   "execution_count": 3,
   "metadata": {},
   "outputs": [],
   "source": [
    "# Create empty instances for each book above\n",
    "G = nx.Graph()"
   ]
  },
  {
   "cell_type": "markdown",
   "metadata": {},
   "source": [
    "## Create a Graph\n",
    "\n",
    "Now that you have the data loaded as a pandas DataFrame, iterate through the data and create appropriate edges to the empty graph you instantiated above. Be sure to add the weight to each edge."
   ]
  },
  {
   "cell_type": "code",
   "execution_count": 4,
   "metadata": {},
   "outputs": [],
   "source": [
    "# Read edge lists into dataframes\n",
    "for edge in edges.iterrows():\n",
    "    G.add_edge(edge[1]['Source'], edge[1]['Target'], weight=edge[1]['weight'])"
   ]
  },
  {
   "cell_type": "markdown",
   "metadata": {},
   "source": [
    "## Calculate Degree\n",
    "\n",
    "To start the investigation of the most central characters in the books, calculate the degree centrality for each character. Then create a bar graph of the top 10 characters according to degree centrality."
   ]
  },
  {
   "cell_type": "code",
   "execution_count": 11,
   "metadata": {},
   "outputs": [
    {
     "data": {
      "image/png": "[encoded data removed]",
      "text/plain": [
       "<Figure size 432x288 with 1 Axes>"
      ]
     },
     "metadata": {
      "needs_background": "light"
     },
     "output_type": "display_data"
    }
   ],
   "source": [
    "degrees = nx.degree(G)\n",
    "deg_top_10 = pd.DataFrame(sorted(degrees, key=lambda x: x[1], reverse=True)[:10], columns=['character', 'degree'])\n",
    "sns.barplot(x='character', y='degree', data=deg_top_10);\n",
    "\n"
   ]
  },
  {
   "cell_type": "markdown",
   "metadata": {},
   "source": [
    "## Closeness Centrality\n",
    "\n",
    "Repeat the above exercise for the top 10 characters according to closeness centrality."
   ]
  },
  {
   "cell_type": "code",
   "execution_count": 32,
   "metadata": {},
   "outputs": [
    {
     "data": {
      "text/plain": [
       "dict"
      ]
     },
     "execution_count": 32,
     "metadata": {},
     "output_type": "execute_result"
    }
   ],
   "source": [
    "closenesses = nx.closeness_centrality(G)\n",
    "#top_10 = pd.DataFrame(sorted(closenesses, key=lambda x: x[1], reverse=True)[:10], columns=['character', 'closeness'])\n",
    "# sns.barplot(x='character', y='closeness', data=top_10);\n"
   ]
  },
  {
   "cell_type": "code",
   "execution_count": 39,
   "metadata": {},
   "outputs": [
    {
     "data": {
      "image/png": "[encoded data removed]",
      "text/plain": [
       "<Figure size 432x288 with 1 Axes>"
      ]
     },
     "metadata": {
      "needs_background": "light"
     },
     "output_type": "display_data"
    }
   ],
   "source": [
    "clo_top_10 = pd.DataFrame(sorted(closenesses.items(), key=lambda x: x[1], reverse=True)[:10], columns=['character', 'closeness'])\n",
    "sns.barplot(x='character', y='closeness', data=clo_top_10);"
   ]
  },
  {
   "cell_type": "markdown",
   "metadata": {},
   "source": [
    "## Betweeness Centrality\n",
    "\n",
    "Repeat the process one more time for betweeness centrality."
   ]
  },
  {
   "cell_type": "code",
   "execution_count": 41,
   "metadata": {},
   "outputs": [],
   "source": [
    "betweenness = nx.betweenness_centrality(G)"
   ]
  },
  {
   "cell_type": "code",
   "execution_count": 42,
   "metadata": {},
   "outputs": [
    {
     "data": {
      "image/png": "[encoded data removed]",
      "text/plain": [
       "<Figure size 432x288 with 1 Axes>"
      ]
     },
     "metadata": {
      "needs_background": "light"
     },
     "output_type": "display_data"
    }
   ],
   "source": [
    "sorted_betweenness = sorted(betweenness.items(), key=lambda x: x[1], reverse=True)[:10]\n",
    "bet_top_10 = pd.DataFrame(sorted_betweenness, columns=['character', 'betweenness'])\n",
    "sns.barplot(x='character', y='betweenness', data=bet_top_10);\n"
   ]
  },
  {
   "cell_type": "markdown",
   "metadata": {},
   "source": [
    "## Putting it All Together\n",
    "\n",
    "Great! Now try putting all of these metrics together along with eigenvector centrality. Combine all four metrics into a single dataframe for each character."
   ]
  },
  {
   "cell_type": "code",
   "execution_count": 43,
   "metadata": {},
   "outputs": [
    {
     "data": {
      "text/html": [
       "<div>\n",
       "<style scoped>\n",
       "    .dataframe tbody tr th:only-of-type {\n",
       "        vertical-align: middle;\n",
       "    }\n",
       "\n",
       "    .dataframe tbody tr th {\n",
       "        vertical-align: top;\n",
       "    }\n",
       "\n",
       "    .dataframe thead th {\n",
       "        text-align: right;\n",
       "    }\n",
       "</style>\n",
       "<table border=\"1\" class=\"dataframe\">\n",
       "  <thead>\n",
       "    <tr style=\"text-align: right;\">\n",
       "      <th></th>\n",
       "      <th>degrees</th>\n",
       "      <th>closeness</th>\n",
       "      <th>betweeness</th>\n",
       "      <th>eigs</th>\n",
       "    </tr>\n",
       "  </thead>\n",
       "  <tbody>\n",
       "    <tr>\n",
       "      <th>Addam-Marbrand</th>\n",
       "      <td>0.015094</td>\n",
       "      <td>0.345803</td>\n",
       "      <td>0.000470</td>\n",
       "      <td>0.052658</td>\n",
       "    </tr>\n",
       "    <tr>\n",
       "      <th>Aegon-Frey-(son-of-Stevron)</th>\n",
       "      <td>0.005031</td>\n",
       "      <td>0.313609</td>\n",
       "      <td>0.000000</td>\n",
       "      <td>0.014688</td>\n",
       "    </tr>\n",
       "    <tr>\n",
       "      <th>Aegon-I-Targaryen</th>\n",
       "      <td>0.011321</td>\n",
       "      <td>0.361692</td>\n",
       "      <td>0.006891</td>\n",
       "      <td>0.025584</td>\n",
       "    </tr>\n",
       "    <tr>\n",
       "      <th>Aegon-Targaryen-(son-of-Rhaegar)</th>\n",
       "      <td>0.018868</td>\n",
       "      <td>0.342230</td>\n",
       "      <td>0.006012</td>\n",
       "      <td>0.024691</td>\n",
       "    </tr>\n",
       "    <tr>\n",
       "      <th>Aegon-V-Targaryen</th>\n",
       "      <td>0.001258</td>\n",
       "      <td>0.262636</td>\n",
       "      <td>0.000000</td>\n",
       "      <td>0.001226</td>\n",
       "    </tr>\n",
       "  </tbody>\n",
       "</table>\n",
       "</div>"
      ],
      "text/plain": [
       "                                   degrees  closeness  betweeness      eigs\n",
       "Addam-Marbrand                    0.015094   0.345803    0.000470  0.052658\n",
       "Aegon-Frey-(son-of-Stevron)       0.005031   0.313609    0.000000  0.014688\n",
       "Aegon-I-Targaryen                 0.011321   0.361692    0.006891  0.025584\n",
       "Aegon-Targaryen-(son-of-Rhaegar)  0.018868   0.342230    0.006012  0.024691\n",
       "Aegon-V-Targaryen                 0.001258   0.262636    0.000000  0.001226"
      ]
     },
     "execution_count": 43,
     "metadata": {},
     "output_type": "execute_result"
    }
   ],
   "source": [
    "degrees = nx.degree_centrality(G)\n",
    "closeness = nx.closeness_centrality(G)\n",
    "betweeness = nx.betweenness_centrality(G)\n",
    "eigs = nx.eigenvector_centrality(G)\n",
    "df = pd.DataFrame([degrees, closeness, betweeness, eigs]).transpose()\n",
    "df.columns = [\"degrees\", \"closeness\", \"betweeness\", \"eigs\"]\n",
    "df.head()"
   ]
  },
  {
   "cell_type": "markdown",
   "metadata": {},
   "source": [
    "## Identifying Key Players\n",
    "\n",
    "While centrality can tell us a lot, you've also begun to see how certain individuals may not be the most central characters, but can be pivotal in the flow of information from one community to another. In the previous lesson, such nodes were labeled as 'bridges' acting as the intermediaries between two clusters. Try and identify such characters from this dataset."
   ]
  },
  {
   "cell_type": "code",
   "execution_count": 45,
   "metadata": {},
   "outputs": [
    {
     "ename": "AttributeError",
     "evalue": "'str' object has no attribute 'closeness'",
     "output_type": "error",
     "traceback": [
      "\u001b[0;31m\u001b[0m",
      "\u001b[0;31mAttributeError\u001b[0mTraceback (most recent call last)",
      "\u001b[0;32m<ipython-input-45-cb8330df99e4>\u001b[0m in \u001b[0;36m<module>\u001b[0;34m()\u001b[0m\n\u001b[1;32m      1\u001b[0m \u001b[0;31m#Your code here\u001b[0m\u001b[0;34m\u001b[0m\u001b[0;34m\u001b[0m\u001b[0m\n\u001b[0;32m----> 2\u001b[0;31m \u001b[0msorted\u001b[0m\u001b[0;34m(\u001b[0m\u001b[0mdf\u001b[0m\u001b[0;34m,\u001b[0m \u001b[0mkey\u001b[0m\u001b[0;34m=\u001b[0m\u001b[0;32mlambda\u001b[0m \u001b[0mx\u001b[0m\u001b[0;34m:\u001b[0m \u001b[0mx\u001b[0m\u001b[0;34m.\u001b[0m\u001b[0mcloseness\u001b[0m\u001b[0;34m,\u001b[0m \u001b[0mreverse\u001b[0m\u001b[0;34m=\u001b[0m\u001b[0;32mTrue\u001b[0m\u001b[0;34m)\u001b[0m\u001b[0;34m\u001b[0m\u001b[0m\n\u001b[0m",
      "\u001b[0;32m<ipython-input-45-cb8330df99e4>\u001b[0m in \u001b[0;36m<lambda>\u001b[0;34m(x)\u001b[0m\n\u001b[1;32m      1\u001b[0m \u001b[0;31m#Your code here\u001b[0m\u001b[0;34m\u001b[0m\u001b[0;34m\u001b[0m\u001b[0m\n\u001b[0;32m----> 2\u001b[0;31m \u001b[0msorted\u001b[0m\u001b[0;34m(\u001b[0m\u001b[0mdf\u001b[0m\u001b[0;34m,\u001b[0m \u001b[0mkey\u001b[0m\u001b[0;34m=\u001b[0m\u001b[0;32mlambda\u001b[0m \u001b[0mx\u001b[0m\u001b[0;34m:\u001b[0m \u001b[0mx\u001b[0m\u001b[0;34m.\u001b[0m\u001b[0mcloseness\u001b[0m\u001b[0;34m,\u001b[0m \u001b[0mreverse\u001b[0m\u001b[0;34m=\u001b[0m\u001b[0;32mTrue\u001b[0m\u001b[0;34m)\u001b[0m\u001b[0;34m\u001b[0m\u001b[0m\n\u001b[0m",
      "\u001b[0;31mAttributeError\u001b[0m: 'str' object has no attribute 'closeness'"
     ]
    }
   ],
   "source": [
    "#Your code here\n",
    "sorted(df.iterr, key=lambda x: x.closeness, reverse=True)"
   ]
  },
  {
   "cell_type": "markdown",
   "metadata": {},
   "source": [
    "## Drawing the Graph\n",
    "\n",
    "To visualize all of these relationships, draw a graph of the network."
   ]
  },
  {
   "cell_type": "code",
   "execution_count": null,
   "metadata": {},
   "outputs": [],
   "source": [
    "#Your code here"
   ]
  },
  {
   "cell_type": "markdown",
   "metadata": {},
   "source": [
    "## Subsetting the Graph\n",
    "\n",
    "As you can see, the above graph is undoubtedly noisy, making it difficult to discern any useful patterns. As such, reset the graph and only add edges whose weight is 75 or greater. From there, redraw the graph. To further help with the display, try using `nx.spring_layout(G, random_state=8)` for the position. To jazz it up, try and recolor those nodes which you identified as bridge or bottleneck nodes to communication."
   ]
  },
  {
   "cell_type": "code",
   "execution_count": null,
   "metadata": {},
   "outputs": [],
   "source": [
    "#Your code here"
   ]
  },
  {
   "cell_type": "markdown",
   "metadata": {},
   "source": [
    "## Summary \n",
    "\n",
    "In this lab, we looked at different centrality measures of the graph data for the ASIOF dataset. We also compared these measures to see how they correlate with each other. We also saw in practice, the difference between taking the weighted centrality measures and how it may effect the results. "
   ]
  }
 ],
 "metadata": {
  "kernelspec": {
   "display_name": "Python 3",
   "language": "python",
   "name": "python3"
  },
  "language_info": {
   "codemirror_mode": {
    "name": "ipython",
    "version": 3
   },
   "file_extension": ".py",
   "mimetype": "text/x-python",
   "name": "python",
   "nbconvert_exporter": "python",
   "pygments_lexer": "ipython3",
   "version": "3.6.6"
  }
 },
 "nbformat": 4,
 "nbformat_minor": 2
}
